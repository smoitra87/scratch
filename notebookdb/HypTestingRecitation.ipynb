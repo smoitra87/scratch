{
 "metadata": {
  "name": "HypTestingRecitation"
 }, 
 "nbformat": 2, 
 "worksheets": [
  {
   "cells": [
    {
     "cell_type": "markdown", 
     "source": [
      "## Distributions", 
      "", 
      "### Uniform Distribution", 
      "", 
      "#### Properties", 
      "When $$X \\sim U(a,b) $$ then $$ f(X) = 1/(b-a) $$", 
      "$$E[X] = \\frac{a+b}{2} $$", 
      "", 
      " "
     ]
    }, 
    {
     "cell_type": "code", 
     "collapsed": true, 
     "input": [], 
     "language": "python", 
     "outputs": [], 
     "prompt_number": "&nbsp;"
    }
   ]
  }
 ]
}