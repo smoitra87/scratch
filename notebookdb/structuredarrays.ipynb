{
 "metadata": {
  "name": "structuredarrays"
 }, 
 "nbformat": 2, 
 "worksheets": [
  {
   "cells": [
    {
     "cell_type": "code", 
     "collapsed": true, 
     "input": [
      "import numpy as np"
     ], 
     "language": "python", 
     "outputs": [], 
     "prompt_number": 1
    }, 
    {
     "cell_type": "code", 
     "collapsed": false, 
     "input": [
      "x = np.zeros((2,),dtype=('i4,f4,a10'))", 
      "x"
     ], 
     "language": "python", 
     "outputs": [
      {
       "output_type": "pyout", 
       "prompt_number": 2, 
       "text": [
        "array([(0, 0.0, &apos;&apos;), (0, 0.0, &apos;&apos;)], ", 
        "      dtype=[(&apos;f0&apos;, &apos;&lt;i4&apos;), (&apos;f1&apos;, &apos;&lt;f4&apos;), (&apos;f2&apos;, &apos;|S10&apos;)])"
       ]
      }
     ], 
     "prompt_number": 2
    }, 
    {
     "cell_type": "code", 
     "collapsed": false, 
     "input": [
      "x[:] = [(1,2.0,\"hello\"),(2,3.9,\"world\")]", 
      "x"
     ], 
     "language": "python", 
     "outputs": [
      {
       "output_type": "pyout", 
       "prompt_number": 3, 
       "text": [
        "array([(1, 2.0, &apos;hello&apos;), (2, 3.9000000953674316, &apos;world&apos;)], ", 
        "      dtype=[(&apos;f0&apos;, &apos;&lt;i4&apos;), (&apos;f1&apos;, &apos;&lt;f4&apos;), (&apos;f2&apos;, &apos;|S10&apos;)])"
       ]
      }
     ], 
     "prompt_number": 3
    }, 
    {
     "cell_type": "code", 
     "collapsed": false, 
     "input": [
      "x[1]"
     ], 
     "language": "python", 
     "outputs": [
      {
       "output_type": "pyout", 
       "prompt_number": 4, 
       "text": [
        "(2, 3.9000000953674316, &apos;world&apos;)"
       ]
      }
     ], 
     "prompt_number": 4
    }, 
    {
     "cell_type": "code", 
     "collapsed": true, 
     "input": [
      "y = x['f1']"
     ], 
     "language": "python", 
     "outputs": [], 
     "prompt_number": 5
    }, 
    {
     "cell_type": "markdown", 
     "source": [
      "Each of the cells are numbered according to the sequence f0,f1,f2...."
     ]
    }, 
    {
     "cell_type": "code", 
     "collapsed": false, 
     "input": [
      "y"
     ], 
     "language": "python", 
     "outputs": [
      {
       "output_type": "pyout", 
       "prompt_number": 6, 
       "text": [
        "array([ 2.       ,  3.9000001], dtype=float32)"
       ]
      }
     ], 
     "prompt_number": 6
    }, 
    {
     "cell_type": "code", 
     "collapsed": false, 
     "input": [
      "y[:] = 2*y", 
      "y"
     ], 
     "language": "python", 
     "outputs": [
      {
       "output_type": "pyout", 
       "prompt_number": 7, 
       "text": [
        "array([ 4.        ,  7.80000019], dtype=float32)"
       ]
      }
     ], 
     "prompt_number": 7
    }, 
    {
     "cell_type": "code", 
     "collapsed": false, 
     "input": [
      "x"
     ], 
     "language": "python", 
     "outputs": [
      {
       "output_type": "pyout", 
       "prompt_number": 8, 
       "text": [
        "array([(1, 4.0, &apos;hello&apos;), (2, 7.800000190734863, &apos;world&apos;)], ", 
        "      dtype=[(&apos;f0&apos;, &apos;&lt;i4&apos;), (&apos;f1&apos;, &apos;&lt;f4&apos;), (&apos;f2&apos;, &apos;|S10&apos;)])"
       ]
      }
     ], 
     "prompt_number": 8
    }, 
    {
     "cell_type": "markdown", 
     "source": [
      "Structured arrays can be declared using String, Tuple, List and Dictionary notation"
     ]
    }, 
    {
     "cell_type": "code", 
     "collapsed": false, 
     "input": [
      "x = np.zeros(3,dtype='3int8, float32, (2,3)float64') # String definiton", 
      "x"
     ], 
     "language": "python", 
     "outputs": [
      {
       "output_type": "pyout", 
       "prompt_number": 9, 
       "text": [
        "array([([0, 0, 0], 0.0, [[0.0, 0.0, 0.0], [0.0, 0.0, 0.0]]),", 
        "       ([0, 0, 0], 0.0, [[0.0, 0.0, 0.0], [0.0, 0.0, 0.0]]),", 
        "       ([0, 0, 0], 0.0, [[0.0, 0.0, 0.0], [0.0, 0.0, 0.0]])], ", 
        "      dtype=[(&apos;f0&apos;, &apos;|i1&apos;, (3,)), (&apos;f1&apos;, &apos;&lt;f4&apos;), (&apos;f2&apos;, &apos;&lt;f8&apos;, (2, 3))])"
       ]
      }
     ], 
     "prompt_number": 9
    }, 
    {
     "cell_type": "markdown", 
     "source": [
      "Tuple definition - It basically uses a tuple to further refine an existing type"
     ]
    }, 
    {
     "cell_type": "code", 
     "collapsed": false, 
     "input": [
      "x = np.zeros(3,dtype=('i4',[('r','u1'),('g','u1'),('b','u1'),('a','u1')]))", 
      "x", 
      "x['r']"
     ], 
     "language": "python", 
     "outputs": [
      {
       "output_type": "pyout", 
       "prompt_number": 10, 
       "text": [
        "array([0, 0, 0], dtype=uint8)"
       ]
      }
     ], 
     "prompt_number": 10
    }, 
    {
     "cell_type": "code", 
     "collapsed": false, 
     "input": [
      "x"
     ], 
     "language": "python", 
     "outputs": [
      {
       "output_type": "pyout", 
       "prompt_number": 11, 
       "text": [
        "array([0, 0, 0])"
       ]
      }
     ], 
     "prompt_number": 11
    }, 
    {
     "cell_type": "code", 
     "collapsed": false, 
     "input": [
      "x['r']"
     ], 
     "language": "python", 
     "outputs": [
      {
       "output_type": "pyout", 
       "prompt_number": 12, 
       "text": [
        "array([0, 0, 0], dtype=uint8)"
       ]
      }
     ], 
     "prompt_number": 12
    }, 
    {
     "cell_type": "markdown", 
     "source": [
      "List definition . Can be used to define the field names"
     ]
    }, 
    {
     "cell_type": "code", 
     "collapsed": false, 
     "input": [
      "x = np.zeros(3,[('x','f4'),('y',np.float32),('value','f4',(2,2))])", 
      "x"
     ], 
     "language": "python", 
     "outputs": [
      {
       "output_type": "pyout", 
       "prompt_number": 13, 
       "text": [
        "array([(0.0, 0.0, [[0.0, 0.0], [0.0, 0.0]]),", 
        "       (0.0, 0.0, [[0.0, 0.0], [0.0, 0.0]]),", 
        "       (0.0, 0.0, [[0.0, 0.0], [0.0, 0.0]])], ", 
        "      dtype=[(&apos;x&apos;, &apos;&lt;f4&apos;), (&apos;y&apos;, &apos;&lt;f4&apos;), (&apos;value&apos;, &apos;&lt;f4&apos;, (2, 2))])"
       ]
      }
     ], 
     "prompt_number": 13
    }, 
    {
     "cell_type": "code", 
     "collapsed": false, 
     "input": [
      "# Then we have the dictionary type", 
      "x = np.zeros(3,dtype={'names':('col1','col2'),'formats':('i4','f4')})", 
      "x"
     ], 
     "language": "python", 
     "outputs": [
      {
       "output_type": "pyout", 
       "prompt_number": 14, 
       "text": [
        "array([(0, 0.0), (0, 0.0), (0, 0.0)], ", 
        "      dtype=[(&apos;col1&apos;, &apos;&lt;i4&apos;), (&apos;col2&apos;, &apos;&lt;f4&apos;)])"
       ]
      }
     ], 
     "prompt_number": 14
    }, 
    {
     "cell_type": "code", 
     "collapsed": false, 
     "input": [
      "# You can get the names of the fields as well", 
      "x.dtype.names"
     ], 
     "language": "python", 
     "outputs": [
      {
       "output_type": "pyout", 
       "prompt_number": 15, 
       "text": [
        "(&apos;col1&apos;, &apos;col2&apos;)"
       ]
      }
     ], 
     "prompt_number": 15
    }, 
    {
     "cell_type": "code", 
     "collapsed": false, 
     "input": [
      "# You can set the names of the fields", 
      "x.dtype.names = ('x','y')", 
      "x"
     ], 
     "language": "python", 
     "outputs": [
      {
       "output_type": "pyout", 
       "prompt_number": 16, 
       "text": [
        "array([(0, 0.0), (0, 0.0), (0, 0.0)], ", 
        "      dtype=[(&apos;x&apos;, &apos;&lt;i4&apos;), (&apos;y&apos;, &apos;&lt;f4&apos;)])"
       ]
      }
     ], 
     "prompt_number": 16
    }, 
    {
     "cell_type": "code", 
     "collapsed": false, 
     "input": [
      "# You can access multiple fields at once", 
      "x[['x','y']]"
     ], 
     "language": "python", 
     "outputs": [
      {
       "output_type": "pyout", 
       "prompt_number": 17, 
       "text": [
        "array([(0, 0.0), (0, 0.0), (0, 0.0)], ", 
        "      dtype=[(&apos;x&apos;, &apos;&lt;i4&apos;), (&apos;y&apos;, &apos;&lt;f4&apos;)])"
       ]
      }
     ], 
     "prompt_number": 17
    }, 
    {
     "cell_type": "code", 
     "collapsed": false, 
     "input": [
      "# You can fill a structured array by row or by field", 
      "x['x'] = np.arange(3)", 
      "x"
     ], 
     "language": "python", 
     "outputs": [
      {
       "output_type": "pyout", 
       "prompt_number": 18, 
       "text": [
        "array([(0, 0.0), (1, 0.0), (2, 0.0)], ", 
        "      dtype=[(&apos;x&apos;, &apos;&lt;i4&apos;), (&apos;y&apos;, &apos;&lt;f4&apos;)])"
       ]
      }
     ], 
     "prompt_number": 18
    }, 
    {
     "cell_type": "code", 
     "collapsed": false, 
     "input": [
      "# you can also fill it by row, in which it takes a tuple", 
      "x[0] = (10,-1.0)", 
      "x"
     ], 
     "language": "python", 
     "outputs": [
      {
       "output_type": "pyout", 
       "prompt_number": 19, 
       "text": [
        "array([(10, -1.0), (1, 0.0), (2, 0.0)], ", 
        "      dtype=[(&apos;x&apos;, &apos;&lt;i4&apos;), (&apos;y&apos;, &apos;&lt;f4&apos;)])"
       ]
      }
     ], 
     "prompt_number": 19
    }, 
    {
     "cell_type": "code", 
     "collapsed": false, 
     "input": [
      "x['x'][0] = 20", 
      "x"
     ], 
     "language": "python", 
     "outputs": [
      {
       "output_type": "pyout", 
       "prompt_number": 20, 
       "text": [
        "array([(20, -1.0), (1, 0.0), (2, 0.0)], ", 
        "      dtype=[(&apos;x&apos;, &apos;&lt;i4&apos;), (&apos;y&apos;, &apos;&lt;f4&apos;)])"
       ]
      }
     ], 
     "prompt_number": 20
    }, 
    {
     "cell_type": "code", 
     "collapsed": false, 
     "input": [
      "x[0][1] = -10.0", 
      "x"
     ], 
     "language": "python", 
     "outputs": [
      {
       "output_type": "pyout", 
       "prompt_number": 21, 
       "text": [
        "array([(20, -10.0), (1, 0.0), (2, 0.0)], ", 
        "      dtype=[(&apos;x&apos;, &apos;&lt;i4&apos;), (&apos;y&apos;, &apos;&lt;f4&apos;)])"
       ]
      }
     ], 
     "prompt_number": 21
    }, 
    {
     "cell_type": "code", 
     "collapsed": true, 
     "input": [], 
     "language": "python", 
     "outputs": [], 
     "prompt_number": 21
    }
   ]
  }
 ]
}